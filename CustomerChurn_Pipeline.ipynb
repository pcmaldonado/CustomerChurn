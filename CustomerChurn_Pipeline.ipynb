{
 "cells": [
  {
   "cell_type": "markdown",
   "id": "5b0be06e",
   "metadata": {},
   "source": [
    "# Predicting Customer Churn\n",
    "For an entreprise, retaining a customer is cheaper than finding a new one, thus having a better understanding on why people churn and what variables make them more likely to leave is vital for the success of a company\n",
    "\n",
    "### Objective\n",
    "The purpose of this project is to predict customer churn based on different explanatory variables such as consumed services and demographics.\n",
    "\n",
    "### Performance\n",
    "To do so, a classification model will be built and tuned in order to minimise the error of prediction. The performance will be measured by:\n",
    "* accuracy: % of good estimations \n",
    "* recall: % of positives outcomes correctly identified (TP / (TP+FN) )\n",
    "* precision: % of positive predictions that are actually correct (TP / (TP+FP) )\n",
    "* f1-score: harmonic mean of precision and recall\n",
    "\n",
    "For this task, the most important is to identify as much customers likely to leave the company as possible, i.e. have a good recall. However, if all customers were identified like likely to leave, recall would be very high but precision would probably be very low as there would be many false positives. For this reason, it is important to get a high recall, but also a high precision (and therefore, a good f1-score). \n",
    "\n",
    "==================================================================================================="
   ]
  },
  {
   "cell_type": "markdown",
   "id": "5372298a",
   "metadata": {},
   "source": [
    "# Complete Pipeline\n",
    "==================================================================================================="
   ]
  },
  {
   "cell_type": "code",
   "execution_count": 1,
   "id": "f9df58f9",
   "metadata": {},
   "outputs": [],
   "source": [
    "# to handle datasets & plotting\n",
    "import pandas as pd\n",
    "import numpy as np\n",
    "import matplotlib.pyplot as plt\n",
    "import seaborn as sns; sns.set()\n",
    "\n",
    "# from sklearn\n",
    "from sklearn.preprocessing import RobustScaler #FunctionTransformer \n",
    "from sklearn.pipeline import Pipeline\n",
    "from sklearn.model_selection import train_test_split\n",
    "\n",
    "# For dealing with imbalanced data\n",
    "from imblearn.over_sampling import SMOTE\n",
    "\n",
    "# from feature_engine\n",
    "from feature_engine.encoding import OneHotEncoder\n",
    "from feature_engine.transformation import LogTransformer\n",
    "from feature_engine.imputation import AddMissingIndicator, MeanMedianImputer\n",
    "from feature_engine.selection import DropCorrelatedFeatures\n",
    "from feature_engine.outliers import Winsorizer\n",
    "\n",
    "# for bringing best model\n",
    "import pickle\n",
    "\n",
    "# Metrics\n",
    "from sklearn.metrics import confusion_matrix, classification_report, accuracy_score, \\\n",
    "                            f1_score, precision_score, recall_score, roc_curve, roc_auc_score\n",
    "\n",
    "\n",
    "# Pandas display\n",
    "pd.set_option('display.max_columns', None)\n",
    "pd.options.display.float_format = '{:.3f}'.format"
   ]
  },
  {
   "cell_type": "markdown",
   "id": "6f0ad3cd",
   "metadata": {},
   "source": [
    "# Load & prepare data"
   ]
  },
  {
   "cell_type": "code",
   "execution_count": 2,
   "id": "18304be7",
   "metadata": {},
   "outputs": [
    {
     "data": {
      "text/html": [
       "<div>\n",
       "<style scoped>\n",
       "    .dataframe tbody tr th:only-of-type {\n",
       "        vertical-align: middle;\n",
       "    }\n",
       "\n",
       "    .dataframe tbody tr th {\n",
       "        vertical-align: top;\n",
       "    }\n",
       "\n",
       "    .dataframe thead th {\n",
       "        text-align: right;\n",
       "    }\n",
       "</style>\n",
       "<table border=\"1\" class=\"dataframe\">\n",
       "  <thead>\n",
       "    <tr style=\"text-align: right;\">\n",
       "      <th></th>\n",
       "      <th>CustomerID</th>\n",
       "      <th>Churn</th>\n",
       "      <th>Tenure</th>\n",
       "      <th>PreferredLoginDevice</th>\n",
       "      <th>CityTier</th>\n",
       "      <th>WarehouseToHome</th>\n",
       "      <th>PreferredPaymentMode</th>\n",
       "      <th>Gender</th>\n",
       "      <th>HourSpendOnApp</th>\n",
       "      <th>NumberOfDeviceRegistered</th>\n",
       "      <th>PreferedOrderCat</th>\n",
       "      <th>SatisfactionScore</th>\n",
       "      <th>MaritalStatus</th>\n",
       "      <th>NumberOfAddress</th>\n",
       "      <th>Complain</th>\n",
       "      <th>OrderAmountHikeFromlastYear</th>\n",
       "      <th>CouponUsed</th>\n",
       "      <th>OrderCount</th>\n",
       "      <th>DaySinceLastOrder</th>\n",
       "      <th>CashbackAmount</th>\n",
       "    </tr>\n",
       "  </thead>\n",
       "  <tbody>\n",
       "    <tr>\n",
       "      <th>0</th>\n",
       "      <td>50001</td>\n",
       "      <td>1</td>\n",
       "      <td>4.000</td>\n",
       "      <td>Mobile Phone</td>\n",
       "      <td>3</td>\n",
       "      <td>6.000</td>\n",
       "      <td>Debit Card</td>\n",
       "      <td>Female</td>\n",
       "      <td>3.000</td>\n",
       "      <td>3</td>\n",
       "      <td>Laptop &amp; Accessory</td>\n",
       "      <td>2</td>\n",
       "      <td>Single</td>\n",
       "      <td>9</td>\n",
       "      <td>1</td>\n",
       "      <td>11.000</td>\n",
       "      <td>1.000</td>\n",
       "      <td>1.000</td>\n",
       "      <td>5.000</td>\n",
       "      <td>159.930</td>\n",
       "    </tr>\n",
       "    <tr>\n",
       "      <th>1</th>\n",
       "      <td>50002</td>\n",
       "      <td>1</td>\n",
       "      <td>NaN</td>\n",
       "      <td>Phone</td>\n",
       "      <td>1</td>\n",
       "      <td>8.000</td>\n",
       "      <td>UPI</td>\n",
       "      <td>Male</td>\n",
       "      <td>3.000</td>\n",
       "      <td>4</td>\n",
       "      <td>Mobile</td>\n",
       "      <td>3</td>\n",
       "      <td>Single</td>\n",
       "      <td>7</td>\n",
       "      <td>1</td>\n",
       "      <td>15.000</td>\n",
       "      <td>0.000</td>\n",
       "      <td>1.000</td>\n",
       "      <td>0.000</td>\n",
       "      <td>120.900</td>\n",
       "    </tr>\n",
       "    <tr>\n",
       "      <th>2</th>\n",
       "      <td>50003</td>\n",
       "      <td>1</td>\n",
       "      <td>NaN</td>\n",
       "      <td>Phone</td>\n",
       "      <td>1</td>\n",
       "      <td>30.000</td>\n",
       "      <td>Debit Card</td>\n",
       "      <td>Male</td>\n",
       "      <td>2.000</td>\n",
       "      <td>4</td>\n",
       "      <td>Mobile</td>\n",
       "      <td>3</td>\n",
       "      <td>Single</td>\n",
       "      <td>6</td>\n",
       "      <td>1</td>\n",
       "      <td>14.000</td>\n",
       "      <td>0.000</td>\n",
       "      <td>1.000</td>\n",
       "      <td>3.000</td>\n",
       "      <td>120.280</td>\n",
       "    </tr>\n",
       "  </tbody>\n",
       "</table>\n",
       "</div>"
      ],
      "text/plain": [
       "   CustomerID  Churn  Tenure PreferredLoginDevice  CityTier  WarehouseToHome  \\\n",
       "0       50001      1   4.000         Mobile Phone         3            6.000   \n",
       "1       50002      1     NaN                Phone         1            8.000   \n",
       "2       50003      1     NaN                Phone         1           30.000   \n",
       "\n",
       "  PreferredPaymentMode  Gender  HourSpendOnApp  NumberOfDeviceRegistered  \\\n",
       "0           Debit Card  Female           3.000                         3   \n",
       "1                  UPI    Male           3.000                         4   \n",
       "2           Debit Card    Male           2.000                         4   \n",
       "\n",
       "     PreferedOrderCat  SatisfactionScore MaritalStatus  NumberOfAddress  \\\n",
       "0  Laptop & Accessory                  2        Single                9   \n",
       "1              Mobile                  3        Single                7   \n",
       "2              Mobile                  3        Single                6   \n",
       "\n",
       "   Complain  OrderAmountHikeFromlastYear  CouponUsed  OrderCount  \\\n",
       "0         1                       11.000       1.000       1.000   \n",
       "1         1                       15.000       0.000       1.000   \n",
       "2         1                       14.000       0.000       1.000   \n",
       "\n",
       "   DaySinceLastOrder  CashbackAmount  \n",
       "0              5.000         159.930  \n",
       "1              0.000         120.900  \n",
       "2              3.000         120.280  "
      ]
     },
     "execution_count": 2,
     "metadata": {},
     "output_type": "execute_result"
    }
   ],
   "source": [
    "data_dict = raw_data = pd.read_excel('E Commerce Dataset.xlsx', sheet_name = 0)\n",
    "raw_data = pd.read_excel('E Commerce Dataset.xlsx', sheet_name = 1)\n",
    "raw_data.head(3)"
   ]
  },
  {
   "cell_type": "code",
   "execution_count": 3,
   "id": "98e20003",
   "metadata": {},
   "outputs": [],
   "source": [
    "#Remove first column = ID \n",
    "data = raw_data.iloc[:,1:] \n",
    "\n",
    "# Splitting into train & test sets to avoid data leakage\n",
    "train_set, test_set = train_test_split(data, test_size = 0.2, random_state = 42) "
   ]
  },
  {
   "cell_type": "code",
   "execution_count": 4,
   "id": "1dc34144",
   "metadata": {},
   "outputs": [
    {
     "name": "stdout",
     "output_type": "stream",
     "text": [
      "The train set contains 4504 rows and 19 columns.\n",
      "The test set contains 1126 rows and 19 columns.\n"
     ]
    }
   ],
   "source": [
    "print(f'The train set contains {train_set.shape[0]} rows and {train_set.shape[1]} columns.')\n",
    "print(f'The test set contains {test_set.shape[0]} rows and {test_set.shape[1]} columns.')"
   ]
  },
  {
   "cell_type": "code",
   "execution_count": 5,
   "id": "847f092a",
   "metadata": {},
   "outputs": [
    {
     "data": {
      "text/plain": [
       "((4504, 18), (4504, 1))"
      ]
     },
     "execution_count": 5,
     "metadata": {},
     "output_type": "execute_result"
    }
   ],
   "source": [
    "# Separating target from features\n",
    "X_train, X_test = train_set.drop(['Churn'], axis=1), test_set.drop(['Churn'], axis=1) # predictive variables\n",
    "y_train, y_test = train_set[['Churn']], test_set[['Churn']] # target\n",
    "\n",
    "X_train.shape, y_train.shape"
   ]
  },
  {
   "cell_type": "markdown",
   "id": "894a3858",
   "metadata": {},
   "source": [
    "# Configuration"
   ]
  },
  {
   "cell_type": "code",
   "execution_count": 6,
   "id": "038fb73e",
   "metadata": {},
   "outputs": [],
   "source": [
    "def confusion_plot(y_pred, y_true):\n",
    "    # Getting the data\n",
    "    tn, fp, fn, tp = confusion_matrix(y_true = y_true, y_pred = y_pred).ravel()\n",
    "    cm = [tp, fn, fp, tn]\n",
    "    data = np.asarray(cm).reshape(2,2)\n",
    "   \n",
    "    # Annotation inside heatmap\n",
    "    group_names = ['True Pos','False Neg','False Pos','True Neg']\n",
    "    group_counts = ['{0:0.0f}'.format(value) for value in cm]\n",
    "    group_percentages = ['{0:.2%}'.format(value) for value in cm/np.sum(cm)]\n",
    "   \n",
    "    labels = [f'{v1}\\n{v2}\\n\\n{v3}' for v1, v2, v3 in\n",
    "              zip(group_names, group_counts, group_percentages)]\n",
    "    labels = np.asarray(labels).reshape(2,2)\n",
    "\n",
    "    # Color\n",
    "    cmap = sns.color_palette(\"Blues\", as_cmap=True)\n",
    "    \n",
    "    # Plot\n",
    "    fig, ax = plt.subplots(figsize=(8,5))\n",
    "    sns.heatmap(data, annot=labels, annot_kws={\"fontsize\":13}, fmt='', \n",
    "                xticklabels='10', yticklabels='10', cmap=cmap) \n",
    "   \n",
    "    \n",
    "    ax.set_title('Confusion Matrix\\n', weight = 'bold', size = 20)\n",
    "    ax.xaxis.set_label_position('top')\n",
    "    ax.xaxis.set_ticks_position('top')\n",
    "    ax.yaxis.set_ticks_position('left')\n",
    "    ax.set_xlabel('Predicted', size = 15)\n",
    "    ax.set_ylabel('Actual', size = 15 )\n",
    "    plt.show()\n",
    "    \n",
    "    \n",
    "    recall = tp/(tp+fn)\n",
    "    specificity = tn/(tn+fp)\n",
    "    precision = tp/(tp+fp)\n",
    "    error_rate = (fp+fn)/(fp+fn+tp+tn) \n",
    "\n",
    "    print('Sensitivity/Recall: {:.2%} ---% of \"1s\" correctly predicted'.format(recall))\n",
    "    print('         Precision: {:.2%} ---% of correctly predicted \"1s\" out of total predicted \"1s\"'.format(precision))    \n",
    "    print('       Specificity: {:.2%} ---% of \"0s\" correctly predicted'.format(specificity))\n",
    "    print('          Accuracy: {:.2%} ---% of true pos/neg overall'.format(1-error_rate))    "
   ]
  },
  {
   "cell_type": "code",
   "execution_count": 7,
   "id": "89677dfe",
   "metadata": {},
   "outputs": [],
   "source": [
    "def ROC_plot(y_test, y_pred):\n",
    "    # fpr = false positive rates\n",
    "    # tpr = true positive rates\n",
    "    fpr, tpr, thresholds = roc_curve(y_test, y_pred)\n",
    "    auc = roc_auc_score(y_test, y_pred)\n",
    "    \n",
    "    plt.figure(figsize = (8,5))\n",
    "    plt.title('ROC Curve',  weight = 'bold', size = 20)\n",
    "    plt.plot(fpr, tpr, 'r')\n",
    "    plt.plot([0,1],[0,1], 'k', linestyle='--')\n",
    "    plt.text(0.6,0.1,'Area Under Curve: {:.2f}'.format(auc), bbox=dict(facecolor='w', edgecolor = 'k', alpha=0.5))\n",
    "    plt.xlabel('False positives [%]', weight = 'bold')\n",
    "    plt.ylabel('True positives [%]', weight = 'bold')\n",
    "    plt.show()   "
   ]
  },
  {
   "cell_type": "markdown",
   "id": "8995c000",
   "metadata": {},
   "source": [
    "## Features"
   ]
  },
  {
   "cell_type": "code",
   "execution_count": 8,
   "id": "31b1660e",
   "metadata": {},
   "outputs": [],
   "source": [
    "# identify numerical features\n",
    "cat_vars = [var for var in X_train.columns if X_train[var].dtype == 'O']\n",
    "\n",
    "# identify numerical features\n",
    "num_vars = [var for var in X_train.columns if X_train[var].dtype != 'O']\n",
    "\n",
    "# identify num features with missing values\n",
    "num_vars_nan = [var for var in num_vars if X_train[var].isnull().sum() > 0]\n",
    "\n",
    "# Getting strictly positive and continuous variables\n",
    "log_vars = [var for var in num_vars if X_train[var].isin([0]).sum() == 0]"
   ]
  },
  {
   "cell_type": "markdown",
   "id": "0319ff65",
   "metadata": {},
   "source": [
    "# Pipeline"
   ]
  },
  {
   "cell_type": "code",
   "execution_count": 9,
   "id": "a6b1afea",
   "metadata": {},
   "outputs": [],
   "source": [
    "feature_engineering_pipeline = Pipeline([   \n",
    "    # ==== HANDLE MISSING VALUES ====\n",
    "    # add missing indicator & impute \"mean\" to numerical varaibles \n",
    "     ('missing_indicator', AddMissingIndicator(variables=num_vars_nan)),\n",
    "    \n",
    "     ('mean_imputation', MeanMedianImputer(\n",
    "        imputation_method='mean', variables=num_vars_nan)),\n",
    "    \n",
    "    \n",
    "    # ==== APPLY WINSORIZATION TO HANDLE OUTLIERS ====\n",
    "    ('outliers', Winsorizer(capping_method = 'gaussian',  variables = log_vars)),\n",
    "    \n",
    "\n",
    "    # ==== APPLY LOG TRANSFORMATION TO NUM VARIABLES ====\n",
    "     # log transformation\n",
    "     ('log', LogTransformer(variables=log_vars)),\n",
    "    \n",
    "\n",
    "    # ==== ENCODING CATEGORICAL VARIABLES ====\n",
    "     # Applying one-hot encoder\n",
    "     ('one_hot_encoder', OneHotEncoder()),\n",
    "    \n",
    "    \n",
    "    # Dropping new features with too much correlation\n",
    "    ('dropping_high_corr', DropCorrelatedFeatures(method = 'spearman', threshold = 0.99))\n",
    "    \n",
    "])    "
   ]
  },
  {
   "cell_type": "code",
   "execution_count": 10,
   "id": "d523193e",
   "metadata": {},
   "outputs": [
    {
     "data": {
      "text/plain": [
       "Pipeline(steps=[('missing_indicator',\n",
       "                 AddMissingIndicator(variables=['Tenure', 'WarehouseToHome',\n",
       "                                                'HourSpendOnApp',\n",
       "                                                'OrderAmountHikeFromlastYear',\n",
       "                                                'CouponUsed', 'OrderCount',\n",
       "                                                'DaySinceLastOrder'])),\n",
       "                ('mean_imputation',\n",
       "                 MeanMedianImputer(imputation_method='mean',\n",
       "                                   variables=['Tenure', 'WarehouseToHome',\n",
       "                                              'HourSpendOnApp',\n",
       "                                              'OrderAmountHikeFromlastYear',\n",
       "                                              'CouponUsed'...\n",
       "                                       'SatisfactionScore', 'NumberOfAddress',\n",
       "                                       'OrderAmountHikeFromlastYear',\n",
       "                                       'OrderCount'])),\n",
       "                ('log',\n",
       "                 LogTransformer(variables=['CityTier', 'WarehouseToHome',\n",
       "                                           'NumberOfDeviceRegistered',\n",
       "                                           'SatisfactionScore',\n",
       "                                           'NumberOfAddress',\n",
       "                                           'OrderAmountHikeFromlastYear',\n",
       "                                           'OrderCount'])),\n",
       "                ('one_hot_encoder', OneHotEncoder()),\n",
       "                ('dropping_high_corr',\n",
       "                 DropCorrelatedFeatures(method='spearman', threshold=0.99))])"
      ]
     },
     "execution_count": 10,
     "metadata": {},
     "output_type": "execute_result"
    }
   ],
   "source": [
    "feature_engineering_pipeline.fit(X_train)"
   ]
  },
  {
   "cell_type": "code",
   "execution_count": 11,
   "id": "6c9aea20",
   "metadata": {},
   "outputs": [],
   "source": [
    "## Transform datasets & get feature names\n",
    "X_train = feature_engineering_pipeline.transform(X_train)\n",
    "feat_names = X_train.columns\n",
    "\n",
    "X_test = feature_engineering_pipeline.transform(X_test)"
   ]
  },
  {
   "cell_type": "markdown",
   "id": "26231d1c",
   "metadata": {},
   "source": [
    "### Applying scaler"
   ]
  },
  {
   "cell_type": "code",
   "execution_count": 12,
   "id": "6dc9bbde",
   "metadata": {},
   "outputs": [],
   "source": [
    "# Adding scaler\n",
    "scaler = RobustScaler()\n",
    "\n",
    "scaler.fit(X_train)\n",
    "X_train = scaler.transform(X_train)\n",
    "X_test = scaler.transform(X_test)"
   ]
  },
  {
   "cell_type": "markdown",
   "id": "e1a1dff4",
   "metadata": {},
   "source": [
    "### Applying SMOTE to training data"
   ]
  },
  {
   "cell_type": "code",
   "execution_count": 13,
   "id": "801f064a",
   "metadata": {},
   "outputs": [
    {
     "name": "stdout",
     "output_type": "stream",
     "text": [
      "tot obs: 4504\n"
     ]
    },
    {
     "data": {
      "text/plain": [
       "Churn\n",
       "0        3741\n",
       "1         763\n",
       "dtype: int64"
      ]
     },
     "execution_count": 13,
     "metadata": {},
     "output_type": "execute_result"
    }
   ],
   "source": [
    "print('tot obs:', y_train.shape[0])\n",
    "y_train.value_counts()"
   ]
  },
  {
   "cell_type": "code",
   "execution_count": 14,
   "id": "f518aa37",
   "metadata": {},
   "outputs": [
    {
     "data": {
      "text/plain": [
       "Churn\n",
       "0        3741\n",
       "1        3741\n",
       "dtype: int64"
      ]
     },
     "execution_count": 14,
     "metadata": {},
     "output_type": "execute_result"
    }
   ],
   "source": [
    "sm = SMOTE(k_neighbors = 7, random_state = 42)\n",
    "\n",
    "# Fit the model to generate the data.\n",
    "X_train, y_train = sm.fit_resample(X_train, y_train)\n",
    "y_train.value_counts()"
   ]
  },
  {
   "cell_type": "code",
   "execution_count": 15,
   "id": "a122b9be",
   "metadata": {
    "scrolled": true
   },
   "outputs": [
    {
     "data": {
      "text/plain": [
       "((7482, 40), (7482, 1))"
      ]
     },
     "execution_count": 15,
     "metadata": {},
     "output_type": "execute_result"
    }
   ],
   "source": [
    "X_train.shape, y_train.shape"
   ]
  },
  {
   "cell_type": "markdown",
   "id": "7001408e",
   "metadata": {},
   "source": [
    "## Modelling on test set"
   ]
  },
  {
   "cell_type": "code",
   "execution_count": 16,
   "id": "1e8322a4",
   "metadata": {},
   "outputs": [],
   "source": [
    "y_train = y_train.values.ravel()"
   ]
  },
  {
   "cell_type": "code",
   "execution_count": 17,
   "id": "5a78f5af",
   "metadata": {},
   "outputs": [
    {
     "data": {
      "text/plain": [
       "VotingClassifier(estimators=[('knn',\n",
       "                              KNeighborsClassifier(leaf_size=15, n_jobs=-1,\n",
       "                                                   n_neighbors=2,\n",
       "                                                   weights='distance')),\n",
       "                             ('svc',\n",
       "                              SVC(C=2.5, class_weight='balanced', degree=2,\n",
       "                                  probability=True)),\n",
       "                             ('extra_trees',\n",
       "                              ExtraTreesClassifier(bootstrap=True, max_depth=29,\n",
       "                                                   max_features=6,\n",
       "                                                   max_samples=1.0,\n",
       "                                                   min_samples_split=3,\n",
       "                                                   n_estimators=500, n_jobs=-1,\n",
       "                                                   random_state=42)),\n",
       "                             ('xgbo...\n",
       "                                            max_delta_step=0, max_depth=18,\n",
       "                                            min_child_weight=1, missing=nan,\n",
       "                                            monotone_constraints='()',\n",
       "                                            n_estimators=500, n_jobs=-1,\n",
       "                                            num_parallel_tree=1,\n",
       "                                            predictor='auto', random_state=42,\n",
       "                                            reg_alpha=0, reg_lambda=1.4,\n",
       "                                            scale_pos_weight=1, subsample=0.9,\n",
       "                                            tree_method='exact',\n",
       "                                            use_label_encoder=False,\n",
       "                                            validate_parameters=1,\n",
       "                                            verbosity=None))],\n",
       "                 n_jobs=-1, voting='soft', weights=[0.3, 0.05, 0.45, 0.2])"
      ]
     },
     "execution_count": 17,
     "metadata": {},
     "output_type": "execute_result"
    }
   ],
   "source": [
    "model = pickle.load(open('vot_clf.pkl', 'rb'))\n",
    "\n",
    "model.fit(X_train, y_train) "
   ]
  },
  {
   "cell_type": "markdown",
   "id": "c9425f90",
   "metadata": {},
   "source": [
    "#### Training set performance"
   ]
  },
  {
   "cell_type": "code",
   "execution_count": 18,
   "id": "840bd84f",
   "metadata": {},
   "outputs": [],
   "source": [
    "# Getting predicted values\n",
    "y_pred = model.predict(X_train)\n",
    "\n",
    "# Getting metrics\n",
    "accuracy = accuracy_score(y_train, y_pred)\n",
    "f1 = f1_score(y_train, y_pred)\n",
    "precision = precision_score(y_train, y_pred)\n",
    "recall = recall_score(y_train, y_pred)"
   ]
  },
  {
   "cell_type": "code",
   "execution_count": 19,
   "id": "fb92992d",
   "metadata": {},
   "outputs": [
    {
     "name": "stdout",
     "output_type": "stream",
     "text": [
      "train accuracy: 1.0\n",
      "train f1: 1.0\n",
      "train precision: 1.0\n",
      "train recall: 1.0\n"
     ]
    }
   ],
   "source": [
    "# determine metrics\n",
    "print('train accuracy:', round(accuracy, 3))\n",
    "print('train f1:',  round(f1, 3))\n",
    "print('train precision:', round(precision, 3))\n",
    "print('train recall:', round(recall, 3))"
   ]
  },
  {
   "cell_type": "markdown",
   "id": "e347e877",
   "metadata": {},
   "source": [
    "#### Test set performance"
   ]
  },
  {
   "cell_type": "code",
   "execution_count": 20,
   "id": "cd9fef29",
   "metadata": {},
   "outputs": [],
   "source": [
    "# Getting predicted values\n",
    "y_pred = model.predict(X_test)\n",
    "\n",
    "# Getting metrics\n",
    "accuracy = accuracy_score(y_test, y_pred)\n",
    "f1 = f1_score(y_test, y_pred)\n",
    "precision = precision_score(y_test, y_pred)\n",
    "recall = recall_score(y_test, y_pred)"
   ]
  },
  {
   "cell_type": "code",
   "execution_count": 21,
   "id": "5f2c900d",
   "metadata": {},
   "outputs": [
    {
     "name": "stdout",
     "output_type": "stream",
     "text": [
      "test accuracy: 0.981\n",
      "test f1: 0.942\n",
      "test precision: 0.971\n",
      "test recall: 0.914\n"
     ]
    }
   ],
   "source": [
    "# determine metrics\n",
    "print('test accuracy:', round(accuracy, 3))\n",
    "print('test f1:',  round(f1, 3))\n",
    "print('test precision:', round(precision, 3))\n",
    "print('test recall:', round(recall, 3))"
   ]
  },
  {
   "cell_type": "code",
   "execution_count": 22,
   "id": "b6322cec",
   "metadata": {},
   "outputs": [
    {
     "data": {
      "image/png": "[encoded data removed]",
      "text/plain": [
       "<Figure size 576x360 with 2 Axes>"
      ]
     },
     "metadata": {},
     "output_type": "display_data"
    },
    {
     "name": "stdout",
     "output_type": "stream",
     "text": [
      "Sensitivity/Recall: 91.35% ---% of \"1s\" correctly predicted\n",
      "         Precision: 97.13% ---% of correctly predicted \"1s\" out of total predicted \"1s\"\n",
      "       Specificity: 99.47% ---% of \"0s\" correctly predicted\n",
      "          Accuracy: 98.13% ---% of true pos/neg overall\n"
     ]
    }
   ],
   "source": [
    "confusion_plot(y_pred = y_pred, y_true = y_test)"
   ]
  },
  {
   "cell_type": "code",
   "execution_count": 23,
   "id": "5b0c8e4e",
   "metadata": {},
   "outputs": [
    {
     "data": {
      "image/png": "[encoded data removed]",
      "text/plain": [
       "<Figure size 576x360 with 1 Axes>"
      ]
     },
     "metadata": {},
     "output_type": "display_data"
    }
   ],
   "source": [
    "ROC_plot(y_test, y_pred)"
   ]
  },
  {
   "cell_type": "code",
   "execution_count": null,
   "id": "e08b0acb",
   "metadata": {},
   "outputs": [],
   "source": []
  }
 ],
 "metadata": {
  "kernelspec": {
   "display_name": "Python 3 (ipykernel)",
   "language": "python",
   "name": "python3"
  },
  "language_info": {
   "codemirror_mode": {
    "name": "ipython",
    "version": 3
   },
   "file_extension": ".py",
   "mimetype": "text/x-python",
   "name": "python",
   "nbconvert_exporter": "python",
   "pygments_lexer": "ipython3",
   "version": "3.9.7"
  }
 },
 "nbformat": 4,
 "nbformat_minor": 5
}
